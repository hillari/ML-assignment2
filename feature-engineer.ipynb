{
 "cells": [
  {
   "cell_type": "code",
   "execution_count": 105,
   "metadata": {
    "collapsed": true,
    "pycharm": {
     "is_executing": false
    }
   },
   "outputs": [],
   "source": [
    "import pandas as pd\n",
    "import numpy as  np\n",
    "from matplotlib import pyplot as plt\n",
    "from sklearn.impute import SimpleImputer\n",
    "from sklearn.preprocessing import LabelEncoder, OneHotEncoder, LabelBinarizer\n",
    "from sklearn.pipeline import Pipeline\n",
    "from sklearn.model_selection import train_test_split\n",
    "from sklearn.linear_model import LinearRegression\n"
   ]
  },
  {
   "cell_type": "code",
   "execution_count": 106,
   "outputs": [
    {
     "data": {
      "text/plain": "Country                              0\nYear                                 0\nStatus                               0\nLife expectancy                      0\nAdult Mortality                      0\ninfant deaths                        0\nAlcohol                            193\npercentage expenditure               0\nHepatitis B                        553\nMeasles                              0\nBMI                                 32\nunder-five deaths                    0\nPolio                               19\nTotal expenditure                  226\nDiphtheria                          19\nHIV/AIDS                             0\nGDP                                443\nPopulation                         644\nthinness  1-19 years                32\nthinness 5-9 years                  32\nIncome composition of resources    160\nSchooling                          160\ndtype: int64"
     },
     "metadata": {},
     "output_type": "execute_result",
     "execution_count": 106
    }
   ],
   "source": [
    "rawdata = pd.read_csv(\"data/raw/LifeExpectancyData.csv\")\n",
    "# Options for missing features - dropna(), drop(), fillna()\n",
    "# drop the missing values from our target value\n",
    "data = rawdata.dropna(axis=0, subset=['Life expectancy'])\n",
    "data.isnull().sum()"
   ],
   "metadata": {
    "collapsed": false,
    "pycharm": {
     "name": "#%%\n",
     "is_executing": false
    }
   }
  },
  {
   "cell_type": "code",
   "execution_count": 107,
   "outputs": [],
   "source": [
    "# Now we can impute missing values for numerical attributes with fillna() \n",
    "# compute the median/mean value on the data and use that to fill the missing values \n",
    "# We are also missing 21% of observations for \"population\" so figure out how to handle this later\n",
    "\n",
    "# NOTE: Cannot do this with categoricals, so drop them first. \n",
    "num_only_df = data.drop([\"Country\", \"Status\"], axis=1)\n",
    "imputer = SimpleImputer(strategy=\"mean\")\n",
    "X = imputer.fit_transform(num_only_df)\n",
    "imputed_df = pd.DataFrame(X, columns=num_only_df.columns)  # Now we can put this back into a DataFrame\n"
   ],
   "metadata": {
    "collapsed": false,
    "pycharm": {
     "name": "#%%\n",
     "is_executing": false
    }
   }
  },
  {
   "cell_type": "code",
   "execution_count": 108,
   "outputs": [
    {
     "data": {
      "text/plain": "(2928, 183)"
     },
     "metadata": {},
     "output_type": "execute_result",
     "execution_count": 108
    }
   ],
   "source": [
    "# Now, we can handle the categorical values, \"Country\" and \"Status\"\n",
    "# We could do this manually, but instead we will use sklearn LabelEncoder and OneHotEncoder\n",
    "# Do \"Country\" first, we must convert text labels to numbers\n",
    "lbl_encoder = LabelEncoder()\n",
    "country = data[\"Country\"]\n",
    "country_encoded = lbl_encoder.fit_transform(country)\n",
    "\n",
    "# Now we can convert this into a vector \n",
    "oh_encoder = OneHotEncoder()\n",
    "# must use reshape to get 2d array from 1d (country_ef_encoded)\n",
    "# reshape() -1 argument means \"unspecified\", ie it's inferred from len of array and remaining dimensions\n",
    "# We use toarray() to create a smaller data structure that only stores the location of the nonzero element,\n",
    "# instead of a sparse matrix with a bunch of zeroes\n",
    "country_oh = oh_encoder.fit_transform(country_encoded.reshape(-1,1)).toarray()\n",
    "\n",
    "# We can do the previous labeling/encoding in one step with LabelBinarizer() \n",
    "status = data[\"Status\"]\n",
    "status_encoder = LabelBinarizer()\n",
    "status_oh = status_encoder.fit_transform(status)\n",
    "country_oh.shape\n"
   ],
   "metadata": {
    "collapsed": false,
    "pycharm": {
     "name": "#%%\n",
     "is_executing": false
    }
   }
  },
  {
   "cell_type": "code",
   "execution_count": 125,
   "outputs": [
    {
     "data": {
      "text/plain": "Index([                  'Year',        'Life expectancy',\n              'Adult Mortality',          'infant deaths',\n                      'Alcohol', 'percentage expenditure',\n                  'Hepatitis B',                'Measles',\n                          'BMI',      'under-five deaths',\n       ...\n                            0.0,                      0.0,\n                            0.0,                      0.0,\n                            0.0,                      0.0,\n                            0.0,                      0.0,\n                            0.0,                      0.0],\n      dtype='object', length=203)"
     },
     "metadata": {},
     "output_type": "execute_result",
     "execution_count": 125
    }
   ],
   "source": [
    "country_df = pd.DataFrame(data=country_oh[:,:], columns=country_oh[0,:])\n",
    "#axis=1 will stack the columns in the second DataFrame to the RIGHT of the first DataFrame\n",
    "final_df = pd.concat([imputed_df, country_df], axis=1)\n",
    "final_df.columns"
   ],
   "metadata": {
    "collapsed": false,
    "pycharm": {
     "name": "#%%\n",
     "is_executing": false
    }
   }
  },
  {
   "cell_type": "code",
   "execution_count": 110,
   "outputs": [],
   "source": [
    "# Create a transformation pipeline so we can execute the steps in the right order (just fiddling)\n",
    "\n",
    "# num_attribs = list(imputed_df)\n",
    "# categorical_attribs = [\"Status\", \"Country\"]\n",
    "# \n",
    "# \n",
    "# num_Pipeline = Pipeline([\n",
    "#     ('selector', DataFrameSelector(num_attribs))\n",
    "#     ('imputer', SimpleImputer(strategy=\"mean\")),\n",
    "#     ()\n",
    "# \n",
    "# ])\n",
    "\n"
   ],
   "metadata": {
    "collapsed": false,
    "pycharm": {
     "name": "#%%\n",
     "is_executing": false
    }
   }
  }
 ],
 "metadata": {
  "kernelspec": {
   "name": "pycharm-65ebcf39",
   "language": "python",
   "display_name": "PyCharm (a2-ML)"
  },
  "language_info": {
   "codemirror_mode": {
    "name": "ipython",
    "version": 2
   },
   "file_extension": ".py",
   "mimetype": "text/x-python",
   "name": "python",
   "nbconvert_exporter": "python",
   "pygments_lexer": "ipython2",
   "version": "2.7.6"
  },
  "pycharm": {
   "stem_cell": {
    "cell_type": "raw",
    "source": [],
    "metadata": {
     "collapsed": false
    }
   }
  }
 },
 "nbformat": 4,
 "nbformat_minor": 0
}