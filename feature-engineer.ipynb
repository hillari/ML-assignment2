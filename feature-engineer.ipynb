{
 "cells": [
  {
   "cell_type": "code",
   "execution_count": 2,
   "metadata": {
    "collapsed": true,
    "pycharm": {
     "is_executing": false
    }
   },
   "outputs": [],
   "source": [
    "import pandas as pd\n",
    "import numpy as  np\n",
    "from matplotlib import pyplot as plt\n",
    "from sklearn.impute import SimpleImputer\n",
    "from sklearn.preprocessing import LabelEncoder, OneHotEncoder, LabelBinarizer\n",
    "from sklearn.pipeline import Pipeline\n",
    "from sklearn.model_selection import train_test_split\n",
    "from sklearn.linear_model import LinearRegression\n"
   ]
  },
  {
   "cell_type": "code",
   "execution_count": 3,
   "outputs": [
    {
     "data": {
      "text/plain": "Country                              0\nYear                                 0\nStatus                               0\nLife expectancy                      0\nAdult Mortality                      0\ninfant deaths                        0\nAlcohol                            193\npercentage expenditure               0\nHepatitis B                        553\nMeasles                              0\nBMI                                 32\nunder-five deaths                    0\nPolio                               19\nTotal expenditure                  226\nDiphtheria                          19\nHIV/AIDS                             0\nGDP                                443\nPopulation                         644\nthinness  1-19 years                32\nthinness 5-9 years                  32\nIncome composition of resources    160\nSchooling                          160\ndtype: int64"
     },
     "metadata": {},
     "output_type": "execute_result",
     "execution_count": 3
    }
   ],
   "source": [
    "rawdata = pd.read_csv(\"data/raw/LifeExpectancyData.csv\")\n",
    "# Options for missing features - dropna(), drop(), fillna()\n",
    "# drop the missing values from our target value\n",
    "data = rawdata.dropna(axis=0, subset=['Life expectancy'])\n",
    "data.isnull().sum()"
   ],
   "metadata": {
    "collapsed": false,
    "pycharm": {
     "name": "#%%\n",
     "is_executing": false
    }
   }
  },
  {
   "cell_type": "code",
   "execution_count": 4,
   "outputs": [],
   "source": [
    "# Now we can impute missing values for numerical attributes with fillna() \n",
    "# compute the median/mean value on the data and use that to fill the missing values \n",
    "# We are also missing 21% of observations for \"population\" so figure out how to handle this later\n",
    "\n",
    "# NOTE: Cannot do this with categoricals, so drop them first. \n",
    "num_only_df = data.drop([\"Country\", \"Status\"], axis=1)\n",
    "imputer = SimpleImputer(strategy=\"mean\")\n",
    "X = imputer.fit_transform(num_only_df)\n",
    "imputed_df = pd.DataFrame(X, columns=num_only_df.columns)  # Now we can put this back into a DataFrame\n"
   ],
   "metadata": {
    "collapsed": false,
    "pycharm": {
     "name": "#%%\n",
     "is_executing": false
    }
   }
  },
  {
   "cell_type": "code",
   "execution_count": 5,
   "outputs": [
    {
     "data": {
      "text/plain": "array([0, 1])"
     },
     "metadata": {},
     "output_type": "execute_result",
     "execution_count": 5
    }
   ],
   "source": [
    "# Now, we can handle the categorical values, \"Country\" and \"Status\"\n",
    "# We could do this manually, but instead we will use sklearn LabelEncoder and OneHotEncoder\n",
    "# Do \"Country\" first, we must convert text labels to numbers\n",
    "lbl_encoder = LabelEncoder()\n",
    "country = data[\"Country\"]\n",
    "country_encoded = lbl_encoder.fit_transform(country)\n",
    "\n",
    "# Now we can convert this into a vector \n",
    "oh_encoder = OneHotEncoder()\n",
    "# must use reshape to get 2d array from 1d (country_ef_encoded)\n",
    "# reshape() -1 argument means \"unspecified\", ie it's inferred from len of array and remaining dimensions\n",
    "# We use toarray() to create a smaller data structure that only stores the location of the nonzero element,\n",
    "# instead of a sparse matrix with a bunch of zeroes\n",
    "country_oh = oh_encoder.fit_transform(country_encoded.reshape(-1,1)).toarray()\n",
    "\n",
    "# We can do the previous labeling/encoding in one step with LabelBinarizer() \n",
    "# status = data[\"Status\"]\n",
    "# status_encoder = LabelBinarizer()\n",
    "# status_oh = status_encoder.fit_transform(status)\n",
    "# country_oh.shape\n",
    "status_encoder = LabelEncoder()\n",
    "status = data[\"Status\"]\n",
    "status_encoded = status_encoder.fit_transform(status)\n",
    "np.unique(status_encoded)\n"
   ],
   "metadata": {
    "collapsed": false,
    "pycharm": {
     "name": "#%%\n",
     "is_executing": false
    }
   }
  },
  {
   "cell_type": "code",
   "execution_count": 6,
   "outputs": [
    {
     "data": {
      "text/plain": "Index([           'year', 'life-expectancy',          'status',\n       'adult-mortality',   'infant-deaths',         'alcohol',\n       'expenditure-GDP',           'hep-B',    'meales-cases',\n                   'BMI',\n       ...\n                     0.0,               0.0,               0.0,\n                     0.0,               0.0,               0.0,\n                     0.0,               0.0,               0.0,\n                     0.0],\n      dtype='object', length=204)"
     },
     "metadata": {},
     "output_type": "execute_result",
     "execution_count": 6
    }
   ],
   "source": [
    "country_df = pd.DataFrame(data=country_oh[:,:], columns=country_oh[0,:])\n",
    "#axis=1 will stack the columns in the second DataFrame to the RIGHT of the first DataFrame\n",
    "final_df = pd.concat([imputed_df, country_df], axis=1)\n",
    "# final_df['status'] = status_encoded\n",
    "final_df.insert(2,'status', status_encoded)\n",
    "\n",
    "final_df.rename(columns={'Year': 'year', 'Life expectancy': 'life-expectancy', 'Adult Mortality': 'adult-mortality', 'infant deaths': 'infant-deaths',\n",
    "                         'Alcohol': 'alcohol', 'percentage expenditure': 'expenditure-GDP', 'Hepatitis B': 'hep-B', 'Measles': 'meales-cases','under-five deaths': 'under-5-deaths',\n",
    "                         'Polio': 'polio-immunizations', 'Total expenditure': 'expentidure-total','Diphtheria ': 'diphtheria -immunizations', 'thinness  1-19 years': 'thinness-10to19',\n",
    "                         'thinness 5-9 years': 'thinness-5to9', 'Income composition of resources': 'income-composition', 'Schooling': 'schooling' }, \n",
    "                inplace=True)\n",
    "\n",
    "final_df.columns\n",
    "\n"
   ],
   "metadata": {
    "collapsed": false,
    "pycharm": {
     "name": "#%%\n",
     "is_executing": false
    }
   }
  },
  {
   "cell_type": "code",
   "execution_count": 7,
   "outputs": [
    {
     "data": {
      "text/plain": "Year                               0.170033\nLife expectancy                    1.000000\nAdult Mortality                   -0.696359\ninfant deaths                     -0.196557\nAlcohol                            0.404877\npercentage expenditure             0.381864\nHepatitis B                        0.256762\nMeasles                           -0.157586\nBMI                                0.567694\nunder-five deaths                 -0.222529\nPolio                              0.465556\nTotal expenditure                  0.218086\nDiphtheria                         0.479495\nHIV/AIDS                          -0.556556\nGDP                                0.461455\nPopulation                        -0.021538\nthinness  1-19 years              -0.477183\nthinness 5-9 years                -0.471584\nIncome composition of resources    0.724776\nSchooling                          0.751975\nName: Life expectancy, dtype: float64"
     },
     "metadata": {},
     "output_type": "execute_result",
     "execution_count": 7
    }
   ],
   "source": [
    "old_corr_matrix = data.corr()\n",
    "old_corr_matrix[\"Life expectancy\"]"
   ],
   "metadata": {
    "collapsed": false,
    "pycharm": {
     "name": "#%%\n",
     "is_executing": false
    }
   }
  },
  {
   "cell_type": "code",
   "execution_count": 8,
   "outputs": [
    {
     "data": {
      "text/plain": "                         year  life-expectancy    status  adult-mortality  \\\nyear             1.000000e+00         0.170033  0.000000        -0.079052   \nlife-expectancy  1.700330e-01         1.000000 -0.482136        -0.696359   \nstatus           0.000000e+00        -0.482136  1.000000         0.315284   \nadult-mortality -7.905159e-02        -0.696359  0.315284         1.000000   \ninfant-deaths   -3.646405e-02        -0.196557  0.112708         0.078756   \n...                       ...              ...       ...              ...   \n0.0              2.670877e-18         0.032403  0.034123        -0.001072   \n0.0              2.670877e-18         0.043204  0.034123        -0.022806   \n0.0              2.670877e-18        -0.041743  0.034123         0.028044   \n0.0              2.670877e-18        -0.119247  0.034123         0.113042   \n0.0              2.677851e-18        -0.145860  0.034123         0.177499   \n\n                 infant-deaths   alcohol  expenditure-GDP     hep-B  \\\nyear                 -0.036464 -0.044669         0.032723  0.090739   \nlife-expectancy      -0.196557  0.392420         0.381864  0.204566   \nstatus                0.112708 -0.579438        -0.454032 -0.095800   \nadult-mortality       0.078756 -0.190791        -0.242860 -0.139146   \ninfant-deaths         1.000000 -0.114806        -0.085906 -0.179724   \n...                        ...       ...              ...       ...   \n0.0                  -0.013202  0.049801        -0.027568 -0.048405   \n0.0                  -0.000766 -0.027119        -0.027568  0.017585   \n0.0                   0.005629 -0.081090        -0.027568 -0.083160   \n0.0                   0.001902 -0.042174        -0.024229 -0.025207   \n0.0                  -0.002413 -0.002359        -0.026810 -0.034215   \n\n                 meales-cases       BMI  ...           0.0           0.0  \\\nyear                -0.081840  0.104094  ...  2.670877e-18  2.670877e-18   \nlife-expectancy     -0.157586  0.562453  ... -1.028995e-01  6.879517e-02   \nstatus               0.077320 -0.314723  ...  3.412328e-02 -1.610192e-01   \nadult-mortality      0.031176 -0.383641  ...  8.329293e-02 -6.358998e-02   \ninfant-deaths        0.501038 -0.227427  ...  4.070011e-02 -2.648758e-03   \n...                       ...       ...  ...           ...           ...   \n0.0                 -0.014606  0.060699  ... -5.494505e-03 -5.494505e-03   \n0.0                  0.011651 -0.101020  ... -5.494505e-03 -5.494505e-03   \n0.0                  0.002152 -0.017733  ... -5.494505e-03 -5.494505e-03   \n0.0                  0.026696 -0.077630  ... -5.494505e-03 -5.494505e-03   \n0.0                 -0.009713 -0.048919  ... -5.494505e-03 -5.494505e-03   \n\n                          0.0           0.0           0.0           0.0  \\\nyear             2.670877e-18  2.670877e-18  2.670877e-18  2.670877e-18   \nlife-expectancy  5.332367e-02 -9.292096e-03  1.683430e-02  3.240310e-02   \nstatus           3.412328e-02  3.412328e-02  3.412328e-02  3.412328e-02   \nadult-mortality -2.675741e-02  1.193915e-02 -1.605807e-02 -1.071543e-03   \ninfant-deaths   -1.873295e-02 -5.316381e-03 -1.908602e-02 -1.320156e-02   \n...                       ...           ...           ...           ...   \n0.0             -5.494505e-03 -5.494505e-03 -5.494505e-03  1.000000e+00   \n0.0             -5.494505e-03 -5.494505e-03 -5.494505e-03 -5.494505e-03   \n0.0             -5.494505e-03 -5.494505e-03 -5.494505e-03 -5.494505e-03   \n0.0             -5.494505e-03 -5.494505e-03 -5.494505e-03 -5.494505e-03   \n0.0             -5.494505e-03 -5.494505e-03 -5.494505e-03 -5.494505e-03   \n\n                          0.0           0.0           0.0           0.0  \nyear             2.670877e-18  2.670877e-18  2.670877e-18  2.677851e-18  \nlife-expectancy  4.320395e-02 -4.174331e-02 -1.192467e-01 -1.458597e-01  \nstatus           3.412328e-02  3.412328e-02  3.412328e-02  3.412328e-02  \nadult-mortality -2.280574e-02  2.804408e-02  1.130423e-01  1.774993e-01  \ninfant-deaths   -7.657303e-04  5.628718e-03  1.901892e-03 -2.413380e-03  \n...                       ...           ...           ...           ...  \n0.0             -5.494505e-03 -5.494505e-03 -5.494505e-03 -5.494505e-03  \n0.0              1.000000e+00 -5.494505e-03 -5.494505e-03 -5.494505e-03  \n0.0             -5.494505e-03  1.000000e+00 -5.494505e-03 -5.494505e-03  \n0.0             -5.494505e-03 -5.494505e-03  1.000000e+00 -5.494505e-03  \n0.0             -5.494505e-03 -5.494505e-03 -5.494505e-03  1.000000e+00  \n\n[204 rows x 204 columns]",
      "text/html": "<div>\n<style scoped>\n    .dataframe tbody tr th:only-of-type {\n        vertical-align: middle;\n    }\n\n    .dataframe tbody tr th {\n        vertical-align: top;\n    }\n\n    .dataframe thead th {\n        text-align: right;\n    }\n</style>\n<table border=\"1\" class=\"dataframe\">\n  <thead>\n    <tr style=\"text-align: right;\">\n      <th></th>\n      <th>year</th>\n      <th>life-expectancy</th>\n      <th>status</th>\n      <th>adult-mortality</th>\n      <th>infant-deaths</th>\n      <th>alcohol</th>\n      <th>expenditure-GDP</th>\n      <th>hep-B</th>\n      <th>meales-cases</th>\n      <th>BMI</th>\n      <th>...</th>\n      <th>0.0</th>\n      <th>0.0</th>\n      <th>0.0</th>\n      <th>0.0</th>\n      <th>0.0</th>\n      <th>0.0</th>\n      <th>0.0</th>\n      <th>0.0</th>\n      <th>0.0</th>\n      <th>0.0</th>\n    </tr>\n  </thead>\n  <tbody>\n    <tr>\n      <th>year</th>\n      <td>1.000000e+00</td>\n      <td>0.170033</td>\n      <td>0.000000</td>\n      <td>-0.079052</td>\n      <td>-0.036464</td>\n      <td>-0.044669</td>\n      <td>0.032723</td>\n      <td>0.090739</td>\n      <td>-0.081840</td>\n      <td>0.104094</td>\n      <td>...</td>\n      <td>2.670877e-18</td>\n      <td>2.670877e-18</td>\n      <td>2.670877e-18</td>\n      <td>2.670877e-18</td>\n      <td>2.670877e-18</td>\n      <td>2.670877e-18</td>\n      <td>2.670877e-18</td>\n      <td>2.670877e-18</td>\n      <td>2.670877e-18</td>\n      <td>2.677851e-18</td>\n    </tr>\n    <tr>\n      <th>life-expectancy</th>\n      <td>1.700330e-01</td>\n      <td>1.000000</td>\n      <td>-0.482136</td>\n      <td>-0.696359</td>\n      <td>-0.196557</td>\n      <td>0.392420</td>\n      <td>0.381864</td>\n      <td>0.204566</td>\n      <td>-0.157586</td>\n      <td>0.562453</td>\n      <td>...</td>\n      <td>-1.028995e-01</td>\n      <td>6.879517e-02</td>\n      <td>5.332367e-02</td>\n      <td>-9.292096e-03</td>\n      <td>1.683430e-02</td>\n      <td>3.240310e-02</td>\n      <td>4.320395e-02</td>\n      <td>-4.174331e-02</td>\n      <td>-1.192467e-01</td>\n      <td>-1.458597e-01</td>\n    </tr>\n    <tr>\n      <th>status</th>\n      <td>0.000000e+00</td>\n      <td>-0.482136</td>\n      <td>1.000000</td>\n      <td>0.315284</td>\n      <td>0.112708</td>\n      <td>-0.579438</td>\n      <td>-0.454032</td>\n      <td>-0.095800</td>\n      <td>0.077320</td>\n      <td>-0.314723</td>\n      <td>...</td>\n      <td>3.412328e-02</td>\n      <td>-1.610192e-01</td>\n      <td>3.412328e-02</td>\n      <td>3.412328e-02</td>\n      <td>3.412328e-02</td>\n      <td>3.412328e-02</td>\n      <td>3.412328e-02</td>\n      <td>3.412328e-02</td>\n      <td>3.412328e-02</td>\n      <td>3.412328e-02</td>\n    </tr>\n    <tr>\n      <th>adult-mortality</th>\n      <td>-7.905159e-02</td>\n      <td>-0.696359</td>\n      <td>0.315284</td>\n      <td>1.000000</td>\n      <td>0.078756</td>\n      <td>-0.190791</td>\n      <td>-0.242860</td>\n      <td>-0.139146</td>\n      <td>0.031176</td>\n      <td>-0.383641</td>\n      <td>...</td>\n      <td>8.329293e-02</td>\n      <td>-6.358998e-02</td>\n      <td>-2.675741e-02</td>\n      <td>1.193915e-02</td>\n      <td>-1.605807e-02</td>\n      <td>-1.071543e-03</td>\n      <td>-2.280574e-02</td>\n      <td>2.804408e-02</td>\n      <td>1.130423e-01</td>\n      <td>1.774993e-01</td>\n    </tr>\n    <tr>\n      <th>infant-deaths</th>\n      <td>-3.646405e-02</td>\n      <td>-0.196557</td>\n      <td>0.112708</td>\n      <td>0.078756</td>\n      <td>1.000000</td>\n      <td>-0.114806</td>\n      <td>-0.085906</td>\n      <td>-0.179724</td>\n      <td>0.501038</td>\n      <td>-0.227427</td>\n      <td>...</td>\n      <td>4.070011e-02</td>\n      <td>-2.648758e-03</td>\n      <td>-1.873295e-02</td>\n      <td>-5.316381e-03</td>\n      <td>-1.908602e-02</td>\n      <td>-1.320156e-02</td>\n      <td>-7.657303e-04</td>\n      <td>5.628718e-03</td>\n      <td>1.901892e-03</td>\n      <td>-2.413380e-03</td>\n    </tr>\n    <tr>\n      <th>...</th>\n      <td>...</td>\n      <td>...</td>\n      <td>...</td>\n      <td>...</td>\n      <td>...</td>\n      <td>...</td>\n      <td>...</td>\n      <td>...</td>\n      <td>...</td>\n      <td>...</td>\n      <td>...</td>\n      <td>...</td>\n      <td>...</td>\n      <td>...</td>\n      <td>...</td>\n      <td>...</td>\n      <td>...</td>\n      <td>...</td>\n      <td>...</td>\n      <td>...</td>\n      <td>...</td>\n    </tr>\n    <tr>\n      <th>0.0</th>\n      <td>2.670877e-18</td>\n      <td>0.032403</td>\n      <td>0.034123</td>\n      <td>-0.001072</td>\n      <td>-0.013202</td>\n      <td>0.049801</td>\n      <td>-0.027568</td>\n      <td>-0.048405</td>\n      <td>-0.014606</td>\n      <td>0.060699</td>\n      <td>...</td>\n      <td>-5.494505e-03</td>\n      <td>-5.494505e-03</td>\n      <td>-5.494505e-03</td>\n      <td>-5.494505e-03</td>\n      <td>-5.494505e-03</td>\n      <td>1.000000e+00</td>\n      <td>-5.494505e-03</td>\n      <td>-5.494505e-03</td>\n      <td>-5.494505e-03</td>\n      <td>-5.494505e-03</td>\n    </tr>\n    <tr>\n      <th>0.0</th>\n      <td>2.670877e-18</td>\n      <td>0.043204</td>\n      <td>0.034123</td>\n      <td>-0.022806</td>\n      <td>-0.000766</td>\n      <td>-0.027119</td>\n      <td>-0.027568</td>\n      <td>0.017585</td>\n      <td>0.011651</td>\n      <td>-0.101020</td>\n      <td>...</td>\n      <td>-5.494505e-03</td>\n      <td>-5.494505e-03</td>\n      <td>-5.494505e-03</td>\n      <td>-5.494505e-03</td>\n      <td>-5.494505e-03</td>\n      <td>-5.494505e-03</td>\n      <td>1.000000e+00</td>\n      <td>-5.494505e-03</td>\n      <td>-5.494505e-03</td>\n      <td>-5.494505e-03</td>\n    </tr>\n    <tr>\n      <th>0.0</th>\n      <td>2.670877e-18</td>\n      <td>-0.041743</td>\n      <td>0.034123</td>\n      <td>0.028044</td>\n      <td>0.005629</td>\n      <td>-0.081090</td>\n      <td>-0.027568</td>\n      <td>-0.083160</td>\n      <td>0.002152</td>\n      <td>-0.017733</td>\n      <td>...</td>\n      <td>-5.494505e-03</td>\n      <td>-5.494505e-03</td>\n      <td>-5.494505e-03</td>\n      <td>-5.494505e-03</td>\n      <td>-5.494505e-03</td>\n      <td>-5.494505e-03</td>\n      <td>-5.494505e-03</td>\n      <td>1.000000e+00</td>\n      <td>-5.494505e-03</td>\n      <td>-5.494505e-03</td>\n    </tr>\n    <tr>\n      <th>0.0</th>\n      <td>2.670877e-18</td>\n      <td>-0.119247</td>\n      <td>0.034123</td>\n      <td>0.113042</td>\n      <td>0.001902</td>\n      <td>-0.042174</td>\n      <td>-0.024229</td>\n      <td>-0.025207</td>\n      <td>0.026696</td>\n      <td>-0.077630</td>\n      <td>...</td>\n      <td>-5.494505e-03</td>\n      <td>-5.494505e-03</td>\n      <td>-5.494505e-03</td>\n      <td>-5.494505e-03</td>\n      <td>-5.494505e-03</td>\n      <td>-5.494505e-03</td>\n      <td>-5.494505e-03</td>\n      <td>-5.494505e-03</td>\n      <td>1.000000e+00</td>\n      <td>-5.494505e-03</td>\n    </tr>\n    <tr>\n      <th>0.0</th>\n      <td>2.677851e-18</td>\n      <td>-0.145860</td>\n      <td>0.034123</td>\n      <td>0.177499</td>\n      <td>-0.002413</td>\n      <td>-0.002359</td>\n      <td>-0.026810</td>\n      <td>-0.034215</td>\n      <td>-0.009713</td>\n      <td>-0.048919</td>\n      <td>...</td>\n      <td>-5.494505e-03</td>\n      <td>-5.494505e-03</td>\n      <td>-5.494505e-03</td>\n      <td>-5.494505e-03</td>\n      <td>-5.494505e-03</td>\n      <td>-5.494505e-03</td>\n      <td>-5.494505e-03</td>\n      <td>-5.494505e-03</td>\n      <td>-5.494505e-03</td>\n      <td>1.000000e+00</td>\n    </tr>\n  </tbody>\n</table>\n<p>204 rows × 204 columns</p>\n</div>"
     },
     "metadata": {},
     "output_type": "execute_result",
     "execution_count": 8
    }
   ],
   "source": [
    "corr_matrix = final_df.corr()\n",
    "# corr_matrix.iloc[:21,1]\n",
    "corr_matrix\n",
    "\n"
   ],
   "metadata": {
    "collapsed": false,
    "pycharm": {
     "name": "#%%\n",
     "is_executing": false
    }
   }
  },
  {
   "cell_type": "code",
   "execution_count": 9,
   "outputs": [
    {
     "data": {
      "text/plain": "Text(0.5, 1.05, 'Correlation Matrix')"
     },
     "metadata": {},
     "output_type": "execute_result",
     "execution_count": 9
    },
    {
     "data": {
      "text/plain": "<Figure size 1368x1080 with 2 Axes>",
      "image/png": "[encoded data removed]"
     },
     "metadata": {
      "needs_background": "light"
     },
     "output_type": "display_data"
    }
   ],
   "source": [
    "# Plotting correlation matrix\n",
    "\n",
    "# numerical_features = final_df.iloc[:, 0:21]\n",
    "# corr_matrix = numerical_features.corr()\n",
    "# corr_matrix[\"life-expectancy\"].sort_values()\n",
    "# corr_matrix\n",
    "# #\n",
    "# correlations = plt.figure(figsize=(19,15))\n",
    "# plt.matshow(corr_matrix, fignum=correlations.number)\n",
    "# plt.xticks(range(corr_matrix.shape[1]), fontsize=14)\n",
    "# plt.yticks(range(corr_matrix.shape[1]), fontsize=14)\n",
    "# cb = plt.colorbar()\n",
    "# cb.ax.tick_params(labelsize=14)\n",
    "# plt.title(\"Correlation Matrix\", fontsize=16)"
   ],
   "metadata": {
    "collapsed": false,
    "pycharm": {
     "name": "#%%\n",
     "is_executing": false
    }
   }
  },
  {
   "cell_type": "code",
   "execution_count": 10,
   "outputs": [],
   "source": [
    "# define our attributes as X and independent variables as y (life expectancy)\n",
    "\n",
    "X = final_df.drop(\"life-expectancy\", axis=1)\n",
    "y = final_df.iloc[:, 1]\n",
    "\n",
    "X_train, X_test, y_train, y_test = train_test_split(X, y, test_size=0.2, random_state=42)\n"
   ],
   "metadata": {
    "collapsed": false,
    "pycharm": {
     "name": "#%%\n",
     "is_executing": false
    }
   }
  },
  {
   "cell_type": "code",
   "execution_count": 11,
   "outputs": [
    {
     "data": {
      "text/plain": "LinearRegression(copy_X=True, fit_intercept=True, n_jobs=None, normalize=False)"
     },
     "metadata": {},
     "output_type": "execute_result",
     "execution_count": 11
    }
   ],
   "source": [
    "# Now we can train the algorithm\n",
    "\n",
    "linear_model = LinearRegression()\n",
    "linear_model.fit(X_train, y_train)\n",
    "# \n",
    "# for i, col_name in enumerate(X_train.columns):\n",
    "#     # print(\"col name: \", col_name)\n",
    "#     # print(\"coeff: \", linear_model.coef_)\n",
    "#     print(\"The coefficient for {} is: {}\".format(col_name, linear_model.coef_[i]))\n",
    "\n",
    "\n",
    "\n"
   ],
   "metadata": {
    "collapsed": false,
    "pycharm": {
     "name": "#%%\n",
     "is_executing": false
    }
   }
  },
  {
   "cell_type": "code",
   "execution_count": 12,
   "outputs": [
    {
     "data": {
      "text/plain": "      Actual  Predicted\n2390    56.5  57.464705\n196     73.0  70.586345\n2307    82.5  82.679642\n1731    75.6  77.046252\n1100    53.0  54.350887\n...      ...        ...\n2443    69.1  72.566177\n381     74.8  74.899201\n1780    65.6  65.778162\n962     66.0  60.567825\n1939    65.7  65.852724\n\n[586 rows x 2 columns]",
      "text/html": "<div>\n<style scoped>\n    .dataframe tbody tr th:only-of-type {\n        vertical-align: middle;\n    }\n\n    .dataframe tbody tr th {\n        vertical-align: top;\n    }\n\n    .dataframe thead th {\n        text-align: right;\n    }\n</style>\n<table border=\"1\" class=\"dataframe\">\n  <thead>\n    <tr style=\"text-align: right;\">\n      <th></th>\n      <th>Actual</th>\n      <th>Predicted</th>\n    </tr>\n  </thead>\n  <tbody>\n    <tr>\n      <th>2390</th>\n      <td>56.5</td>\n      <td>57.464705</td>\n    </tr>\n    <tr>\n      <th>196</th>\n      <td>73.0</td>\n      <td>70.586345</td>\n    </tr>\n    <tr>\n      <th>2307</th>\n      <td>82.5</td>\n      <td>82.679642</td>\n    </tr>\n    <tr>\n      <th>1731</th>\n      <td>75.6</td>\n      <td>77.046252</td>\n    </tr>\n    <tr>\n      <th>1100</th>\n      <td>53.0</td>\n      <td>54.350887</td>\n    </tr>\n    <tr>\n      <th>...</th>\n      <td>...</td>\n      <td>...</td>\n    </tr>\n    <tr>\n      <th>2443</th>\n      <td>69.1</td>\n      <td>72.566177</td>\n    </tr>\n    <tr>\n      <th>381</th>\n      <td>74.8</td>\n      <td>74.899201</td>\n    </tr>\n    <tr>\n      <th>1780</th>\n      <td>65.6</td>\n      <td>65.778162</td>\n    </tr>\n    <tr>\n      <th>962</th>\n      <td>66.0</td>\n      <td>60.567825</td>\n    </tr>\n    <tr>\n      <th>1939</th>\n      <td>65.7</td>\n      <td>65.852724</td>\n    </tr>\n  </tbody>\n</table>\n<p>586 rows × 2 columns</p>\n</div>"
     },
     "metadata": {},
     "output_type": "execute_result",
     "execution_count": 12
    }
   ],
   "source": [
    "y_predict = linear_model.predict((X_test))\n",
    "\n",
    "predictions_results_df = pd.DataFrame({'Actual': y_test, 'Predicted': y_predict})\n",
    "predictions_results_df\n"
   ],
   "metadata": {
    "collapsed": false,
    "pycharm": {
     "name": "#%%\n",
     "is_executing": false
    }
   }
  }
 ],
 "metadata": {
  "kernelspec": {
   "name": "pycharm-65ebcf39",
   "language": "python",
   "display_name": "PyCharm (a2-ML)"
  },
  "language_info": {
   "codemirror_mode": {
    "name": "ipython",
    "version": 2
   },
   "file_extension": ".py",
   "mimetype": "text/x-python",
   "name": "python",
   "nbconvert_exporter": "python",
   "pygments_lexer": "ipython2",
   "version": "2.7.6"
  },
  "pycharm": {
   "stem_cell": {
    "cell_type": "raw",
    "source": [],
    "metadata": {
     "collapsed": false
    }
   }
  }
 },
 "nbformat": 4,
 "nbformat_minor": 0
}